{
 "cells": [
  {
   "cell_type": "markdown",
   "metadata": {
    "inputHidden": false,
    "outputHidden": false
   },
   "source": [
    "# Lab 4: Relational Joins and Aggregation\n",
    "\n",
    "*Due 5 PM, Tuesday, March 12, 2019*\n",
    "\n",
    "In this lab we explore relational joins and aggregation in SQL. We covered in lecture several kinds of joins along with aggregation. So we'll get straight to the lab.\n",
    "\n",
    "We'll work with two relations: `customers` and `orders`.\n",
    "\n",
    "The `customers` relation will have the following content:\n",
    "\n",
    "| id  | name  |\n",
    "| --- | ----- |\n",
    "| 1   | john  |\n",
    "| 2   | sam   |\n",
    "| 3   | sally |\n",
    "| 4   | paul  |\n",
    "| 5   | liza  |\n",
    "\n",
    "\n",
    "The `orders` relation will have the following records:\n",
    "\n",
    "| id  | customer_id | amount |\n",
    "| --- | ----------- | ------ |\n",
    "| 1   | 1           | 20.99  |\n",
    "| 2   | 1           | 55.00  |\n",
    "| 3   | 66          | 33.99  |\n",
    "| 4   | 5           | 190.72 |\n",
    "| 5   | 4           | 12.33  |\n",
    "\n",
    "The `customer_id` attribute in the `orders` table is a *foreign key*. It points to the customer associated with an order. For example the order with `id` `5` is for `customer` with `id` `4` (Paul).\n",
    "\n",
    "We'll be using the foreign key to *join* the tables together.\n",
    "\n",
    "Take a moment to study the two tables. Notice that customer John has multiple orders. But Sam and Sally have no orders.\n",
    "\n",
    "Conversely, order `3` is a dangling reference. It points to a non-existent customer. (Maybe customer ID `66` was erroneously deleted from the database.)\n",
    "\n",
    "All the problems below are solved with a single query. You will use some or all of the joins covered in class. Some questions also require the `group_by` clause for aggregating related rows. You will also use *aliasing* to create placeholders for table and column names when joining together two tables.\n",
    "\n",
    "> **Important**\n",
    ">\n",
    "> SQLite does not support the full complement of joins we cover in class. Nonetheless, it's possible to do all the problems with the joins it does support.\n",
    ">\n",
    "> Some problems require a right join, which is missing in SQLite. You can simulate a right join by swapping left and right relations in the query.\n",
    ">\n",
    "> Refer to the [SQLite documentation](https://www.sqlite.org/syntax/join-clause.html) for the supported forms of the join clause.\n",
    "\n",
    "You might find this pictorial summary of the various joins helpful:\n",
    "\n",
    "\n",
    "\n",
    "Credit: [Techaglist](https://www.techagilist.com/mainframe/db2/db2-join-inner-joins-and-outer-joins/)"
   ]
  },
  {
   "cell_type": "markdown",
   "metadata": {},
   "source": [
    "## Preliminaries: Setup and Imports"
   ]
  },
  {
   "cell_type": "code",
   "execution_count": 1,
   "metadata": {},
   "outputs": [],
   "source": [
    "import sqlalchemy\n",
    "from sqlalchemy import create_engine\n",
    "from sqlalchemy import inspect\n",
    "\n",
    "import pandas as pd\n",
    "import unittest\n",
    "import math\n",
    "from IPython.display import display, HTML\n"
   ]
  },
  {
   "cell_type": "markdown",
   "metadata": {
    "inputHidden": false,
    "outputHidden": false
   },
   "source": [
    "### Open Database and Create Tables\n",
    "\n",
    "In the following snippet we create the database in the system temporary directory `/tmp`. You can move the database elsewhere if you like.\n",
    "\n",
    "I highly recommend opening the database from the `sqlite3` console tool like so:\n",
    "\n",
    "```bash\n",
    "$ sqlite3 /tmp/customers.db\n",
    "```\n",
    "\n",
    "Once inside the database, you can issue SQL commands directly. For example:\n",
    "```bash\n",
    "sqlite> select * from customers;\n",
    "id          name      \n",
    "----------  ----------\n",
    "1           john      \n",
    "2           sam       \n",
    "3           sally     \n",
    "4           paul      \n",
    "5           liza      \n",
    "\n",
    "```\n",
    "It may be easier to learn the various forms by playing around with SQL statements like I do above. Try out various commands. See if it matches your expectations for the statement."
   ]
  },
  {
   "cell_type": "code",
   "execution_count": 2,
   "metadata": {},
   "outputs": [
    {
     "name": "stdout",
     "output_type": "stream",
     "text": [
      "1.2.15\n",
      "Engine(sqlite:////tmp/customers.db)\n"
     ]
    }
   ],
   "source": [
    "db_name = 'sqlite:////tmp/customers.db'\n",
    "\n",
    "\n",
    "engine = create_engine(db_name, echo=False)\n",
    "print(sqlalchemy.__version__)\n",
    "print(engine)"
   ]
  },
  {
   "cell_type": "markdown",
   "metadata": {
    "inputHidden": false,
    "outputHidden": false
   },
   "source": [
    "### Create the Customer Table"
   ]
  },
  {
   "cell_type": "code",
   "execution_count": 3,
   "metadata": {},
   "outputs": [
    {
     "data": {
      "text/plain": [
       "<sqlalchemy.engine.result.ResultProxy at 0x11d1e2588>"
      ]
     },
     "execution_count": 3,
     "metadata": {},
     "output_type": "execute_result"
    }
   ],
   "source": [
    "drop_table_statement = \"\"\"drop table if exists customers\"\"\"\n",
    "engine.execute(drop_table_statement)\n",
    "\n",
    "# sql statement\n",
    "create_table_stmt = \"\"\"create table customers(\n",
    "  id integer primary key,\n",
    "  name text not null\n",
    ");\n",
    "\"\"\"\n",
    "engine.execute(create_table_stmt)\n",
    "\n"
   ]
  },
  {
   "cell_type": "markdown",
   "metadata": {
    "inputHidden": false,
    "outputHidden": false
   },
   "source": [
    "### Populate the Customer Table"
   ]
  },
  {
   "cell_type": "code",
   "execution_count": 4,
   "metadata": {},
   "outputs": [
    {
     "name": "stdout",
     "output_type": "stream",
     "text": [
      "inserting john\n",
      "inserting sam\n",
      "inserting sally\n",
      "inserting paul\n",
      "inserting liza\n"
     ]
    }
   ],
   "source": [
    "customer_list = [\n",
    "    \"john\", \"sam\", \"sally\", \"paul\", \"liza\"\n",
    "]\n",
    "\n",
    "insert_statement = \"\"\"\n",
    "insert into customers (name)\n",
    "  values(?)\n",
    "\"\"\"\n",
    "\n",
    "for c in customer_list:\n",
    "    print(f\"inserting {c}\")\n",
    "    # insert into db; note unpacking of tuple (*c)\n",
    "    engine.execute(insert_statement, c)\n",
    "    "
   ]
  },
  {
   "cell_type": "markdown",
   "metadata": {
    "inputHidden": false,
    "outputHidden": false
   },
   "source": [
    "### Read the Customer Table\n",
    "\n",
    "Here is what the `customers` table looks like. \n",
    "\n",
    "Notice that we're using Pandas `read_sql` method to insert the result directly into a DataFrame. This will let us pretty print the table and also run assertions in the unit tests that go with each problem."
   ]
  },
  {
   "cell_type": "code",
   "execution_count": 5,
   "metadata": {},
   "outputs": [
    {
     "data": {
      "text/html": [
       "<div>\n",
       "<style scoped>\n",
       "    .dataframe tbody tr th:only-of-type {\n",
       "        vertical-align: middle;\n",
       "    }\n",
       "\n",
       "    .dataframe tbody tr th {\n",
       "        vertical-align: top;\n",
       "    }\n",
       "\n",
       "    .dataframe thead th {\n",
       "        text-align: right;\n",
       "    }\n",
       "</style>\n",
       "<table border=\"1\" class=\"dataframe\">\n",
       "  <thead>\n",
       "    <tr style=\"text-align: right;\">\n",
       "      <th></th>\n",
       "      <th>id</th>\n",
       "      <th>name</th>\n",
       "    </tr>\n",
       "  </thead>\n",
       "  <tbody>\n",
       "    <tr>\n",
       "      <th>0</th>\n",
       "      <td>1</td>\n",
       "      <td>john</td>\n",
       "    </tr>\n",
       "    <tr>\n",
       "      <th>1</th>\n",
       "      <td>2</td>\n",
       "      <td>sam</td>\n",
       "    </tr>\n",
       "    <tr>\n",
       "      <th>2</th>\n",
       "      <td>3</td>\n",
       "      <td>sally</td>\n",
       "    </tr>\n",
       "    <tr>\n",
       "      <th>3</th>\n",
       "      <td>4</td>\n",
       "      <td>paul</td>\n",
       "    </tr>\n",
       "    <tr>\n",
       "      <th>4</th>\n",
       "      <td>5</td>\n",
       "      <td>liza</td>\n",
       "    </tr>\n",
       "  </tbody>\n",
       "</table>\n",
       "</div>"
      ],
      "text/plain": [
       "   id   name\n",
       "0   1   john\n",
       "1   2    sam\n",
       "2   3  sally\n",
       "3   4   paul\n",
       "4   5   liza"
      ]
     },
     "execution_count": 5,
     "metadata": {},
     "output_type": "execute_result"
    }
   ],
   "source": [
    "d = pd.read_sql(\"select * from customers\", engine)\n",
    "d"
   ]
  },
  {
   "cell_type": "markdown",
   "metadata": {
    "inputHidden": false,
    "outputHidden": false
   },
   "source": [
    "### Create the Orders Table"
   ]
  },
  {
   "cell_type": "code",
   "execution_count": 6,
   "metadata": {},
   "outputs": [
    {
     "data": {
      "text/plain": [
       "<sqlalchemy.engine.result.ResultProxy at 0x11d27f5f8>"
      ]
     },
     "execution_count": 6,
     "metadata": {},
     "output_type": "execute_result"
    }
   ],
   "source": [
    "drop_orders_statement = \"\"\"drop table if exists orders\"\"\"\n",
    "engine.execute(drop_orders_statement)\n",
    "\n",
    "# sql statement\n",
    "create_orders_table_stmt = \"\"\"create table orders(\n",
    "  id integer primary key,\n",
    "  customer_id integer,\n",
    "  amount float not null\n",
    ");\n",
    "\"\"\"\n",
    "engine.execute(create_orders_table_stmt)\n",
    "\n"
   ]
  },
  {
   "cell_type": "markdown",
   "metadata": {
    "inputHidden": false,
    "outputHidden": false
   },
   "source": [
    "### Populate the Orders Table"
   ]
  },
  {
   "cell_type": "code",
   "execution_count": 7,
   "metadata": {},
   "outputs": [
    {
     "name": "stdout",
     "output_type": "stream",
     "text": [
      "inserting 20.99\n",
      "inserting 55.0\n",
      "inserting 33.99\n",
      "inserting 190.72\n",
      "inserting 12.33\n"
     ]
    }
   ],
   "source": [
    "orders_list = [\n",
    "    (20.99, 1),\n",
    "    (55.00, 1),\n",
    "    (33.99, 66),\n",
    "    (190.72, 5),\n",
    "    (12.33, 4)\n",
    "]\n",
    "\n",
    "insert_orders_statement = \"\"\"\n",
    "insert into orders (amount, customer_id)\n",
    "  values(?,?)\n",
    "\"\"\"\n",
    "\n",
    "for o in orders_list:\n",
    "    print(f\"inserting {o[0]}\")\n",
    "    # insert into db; note unpacking of tuple (*o)\n",
    "    engine.execute(insert_orders_statement, o)"
   ]
  },
  {
   "cell_type": "markdown",
   "metadata": {
    "inputHidden": false,
    "outputHidden": false
   },
   "source": [
    "### Read the Orders Table\n"
   ]
  },
  {
   "cell_type": "code",
   "execution_count": 8,
   "metadata": {},
   "outputs": [
    {
     "data": {
      "text/html": [
       "<div>\n",
       "<style scoped>\n",
       "    .dataframe tbody tr th:only-of-type {\n",
       "        vertical-align: middle;\n",
       "    }\n",
       "\n",
       "    .dataframe tbody tr th {\n",
       "        vertical-align: top;\n",
       "    }\n",
       "\n",
       "    .dataframe thead th {\n",
       "        text-align: right;\n",
       "    }\n",
       "</style>\n",
       "<table border=\"1\" class=\"dataframe\">\n",
       "  <thead>\n",
       "    <tr style=\"text-align: right;\">\n",
       "      <th></th>\n",
       "      <th>id</th>\n",
       "      <th>customer_id</th>\n",
       "      <th>amount</th>\n",
       "    </tr>\n",
       "  </thead>\n",
       "  <tbody>\n",
       "    <tr>\n",
       "      <th>0</th>\n",
       "      <td>1</td>\n",
       "      <td>1</td>\n",
       "      <td>20.99</td>\n",
       "    </tr>\n",
       "    <tr>\n",
       "      <th>1</th>\n",
       "      <td>2</td>\n",
       "      <td>1</td>\n",
       "      <td>55.00</td>\n",
       "    </tr>\n",
       "    <tr>\n",
       "      <th>2</th>\n",
       "      <td>3</td>\n",
       "      <td>66</td>\n",
       "      <td>33.99</td>\n",
       "    </tr>\n",
       "    <tr>\n",
       "      <th>3</th>\n",
       "      <td>4</td>\n",
       "      <td>5</td>\n",
       "      <td>190.72</td>\n",
       "    </tr>\n",
       "    <tr>\n",
       "      <th>4</th>\n",
       "      <td>5</td>\n",
       "      <td>4</td>\n",
       "      <td>12.33</td>\n",
       "    </tr>\n",
       "  </tbody>\n",
       "</table>\n",
       "</div>"
      ],
      "text/plain": [
       "   id  customer_id  amount\n",
       "0   1            1   20.99\n",
       "1   2            1   55.00\n",
       "2   3           66   33.99\n",
       "3   4            5  190.72\n",
       "4   5            4   12.33"
      ]
     },
     "execution_count": 8,
     "metadata": {},
     "output_type": "execute_result"
    }
   ],
   "source": [
    "d = pd.read_sql(\"select * from orders\", engine)\n",
    "\n",
    "d"
   ]
  },
  {
   "cell_type": "markdown",
   "metadata": {
    "inputHidden": false,
    "outputHidden": false
   },
   "source": [
    "# Homework\n",
    "*60 Points Total*\n",
    "\n",
    "## Problem 1: List Orders For Each Customer\n",
    "*10 Points*\n",
    "\n",
    "List all orders for each customer. Return a relation with the following columns:\n",
    "\n",
    "\n",
    "| customer_id | name          | order_id | Amount       |\n",
    "| ----------- | ------------- | -------- | ------------ |\n",
    "| Customer ID | Customer Name | Order ID | Order Amount |\n",
    "\n",
    "The above relation will **not** include rows for customers that don't have associated orders.\n",
    "\n",
    "In this and all subsequent problemsyou should fill in the `query` variable in the `setUpClass` method of the unit test. The test code is written for you and will ascertain whether your query meets the specification.\n",
    "\n",
    "### Aliasing\n",
    "\n",
    "You will almost certainly use table and attribute **aliasing**. Aliasing can help shorten SQL statements. But more importantly, they *disambiguate* field/attribute names in joins where the joined tables have attributes with the same name. Often, we want to disambiguate IDs, the primary key. \n",
    "\n",
    "Consider two examples:\n",
    "\n",
    "```sql\n",
    "select c.id, c.name from customers as c;\n",
    "```\n",
    "\n",
    "In the above `customers d` creates an alias `c` for `customers`. This alias can then be used to dereference column names (`c.id`, `c.name`).\n",
    "\n",
    "In the above context an alias is hardly useful. You could have done the same with `select id, name from customers`. But aliases come into their own when multiple tables are involved and you need to disambiguate or rename common attributes. So, for example when joining `customers` and `orders` both tables have an `ID` key. We can use aliases to rename the `ID` attributes so they don't clash:\n",
    "\n",
    "```sql\n",
    "select c.id as customer_id, c.name as customer_name, o.id as order_id\n",
    "    from customers as c\n",
    "    join orders as o\n",
    "    on o.customer_id = c.id\n",
    "```\n"
   ]
  },
  {
   "cell_type": "code",
   "execution_count": 12,
   "metadata": {},
   "outputs": [
    {
     "data": {
      "text/html": [
       "<div>\n",
       "<style scoped>\n",
       "    .dataframe tbody tr th:only-of-type {\n",
       "        vertical-align: middle;\n",
       "    }\n",
       "\n",
       "    .dataframe tbody tr th {\n",
       "        vertical-align: top;\n",
       "    }\n",
       "\n",
       "    .dataframe thead th {\n",
       "        text-align: right;\n",
       "    }\n",
       "</style>\n",
       "<table border=\"1\" class=\"dataframe\">\n",
       "  <thead>\n",
       "    <tr style=\"text-align: right;\">\n",
       "      <th></th>\n",
       "      <th>customer_id</th>\n",
       "      <th>name</th>\n",
       "      <th>order_id</th>\n",
       "      <th>amount</th>\n",
       "    </tr>\n",
       "  </thead>\n",
       "  <tbody>\n",
       "    <tr>\n",
       "      <th>0</th>\n",
       "      <td>1</td>\n",
       "      <td>john</td>\n",
       "      <td>1</td>\n",
       "      <td>20.99</td>\n",
       "    </tr>\n",
       "    <tr>\n",
       "      <th>1</th>\n",
       "      <td>1</td>\n",
       "      <td>john</td>\n",
       "      <td>2</td>\n",
       "      <td>55.00</td>\n",
       "    </tr>\n",
       "    <tr>\n",
       "      <th>2</th>\n",
       "      <td>5</td>\n",
       "      <td>liza</td>\n",
       "      <td>4</td>\n",
       "      <td>190.72</td>\n",
       "    </tr>\n",
       "    <tr>\n",
       "      <th>3</th>\n",
       "      <td>4</td>\n",
       "      <td>paul</td>\n",
       "      <td>5</td>\n",
       "      <td>12.33</td>\n",
       "    </tr>\n",
       "  </tbody>\n",
       "</table>\n",
       "</div>"
      ],
      "text/plain": [
       "   customer_id  name  order_id  amount\n",
       "0            1  john         1   20.99\n",
       "1            1  john         2   55.00\n",
       "2            5  liza         4  190.72\n",
       "3            4  paul         5   12.33"
      ]
     },
     "metadata": {},
     "output_type": "display_data"
    },
    {
     "name": "stderr",
     "output_type": "stream",
     "text": [
      "test_query (__main__.Problem1Test) ... ok\n",
      "\n",
      "----------------------------------------------------------------------\n",
      "Ran 1 test in 0.013s\n",
      "\n",
      "OK\n"
     ]
    },
    {
     "data": {
      "text/plain": [
       "<unittest.main.TestProgram at 0x11d2b4860>"
      ]
     },
     "execution_count": 12,
     "metadata": {},
     "output_type": "execute_result"
    }
   ],
   "source": [
    "class Problem1Test(unittest.TestCase):\n",
    "    \n",
    "    @classmethod\n",
    "    def setUpClass(cls):\n",
    "        query = \"\"\"\n",
    "            SELECT c.id AS customer_id, c.name AS name, o.id AS order_id, o.amount AS amount\n",
    "                FROM customers AS c\n",
    "                JOIN orders AS o\n",
    "                ON o.customer_id = c.id\n",
    "        \"\"\"\n",
    "        cls.df = pd.read_sql(query, engine)\n",
    "        display(cls.df)\n",
    "    \n",
    "    def test_query(self):\n",
    "        \n",
    "        df = self.df\n",
    "        self.assertTrue(type(df))\n",
    "        self.assertEqual(len(df), 4)\n",
    "        \n",
    "        keys = df.keys()\n",
    "        self.assertIn('customer_id', keys)\n",
    "        self.assertIn('name', keys)\n",
    "        self.assertIn('order_id', keys)\n",
    "        self.assertIn('amount', keys)\n",
    "        \n",
    "        # john should have two orders\n",
    "        self.assertEqual(len(df[df['name'] == 'john']), 2)\n",
    "\n",
    "        # sally won't be in the results\n",
    "        x = df['name'] == 'sally'\n",
    "        self.assertNotIn(True, enumerate(x))\n",
    "\n",
    "        # sam won't be in the results\n",
    "        x = df['name'] == 'sam'\n",
    "        self.assertNotIn(True, enumerate(x))\n",
    "        \n",
    "\n",
    "# Run the unit tests          \n",
    "unittest.main(defaultTest=\"Problem1Test\", argv=['ignored', '-v'], exit=False)\n"
   ]
  },
  {
   "cell_type": "markdown",
   "metadata": {
    "inputHidden": false,
    "outputHidden": false
   },
   "source": [
    "## Problem 2: List Customers With No Orders\n",
    "*10 Points*\n",
    "\n",
    "\n",
    "List all customers for which no orders exist. The resulting relation will have the following format:\n",
    "\n",
    "| id          | name          |\n",
    "| ----------- | ------------- |\n",
    "| Customer ID | Customer Name |\n"
   ]
  },
  {
   "cell_type": "code",
   "execution_count": 13,
   "metadata": {},
   "outputs": [
    {
     "data": {
      "text/html": [
       "<div>\n",
       "<style scoped>\n",
       "    .dataframe tbody tr th:only-of-type {\n",
       "        vertical-align: middle;\n",
       "    }\n",
       "\n",
       "    .dataframe tbody tr th {\n",
       "        vertical-align: top;\n",
       "    }\n",
       "\n",
       "    .dataframe thead th {\n",
       "        text-align: right;\n",
       "    }\n",
       "</style>\n",
       "<table border=\"1\" class=\"dataframe\">\n",
       "  <thead>\n",
       "    <tr style=\"text-align: right;\">\n",
       "      <th></th>\n",
       "      <th>id</th>\n",
       "      <th>name</th>\n",
       "    </tr>\n",
       "  </thead>\n",
       "  <tbody>\n",
       "    <tr>\n",
       "      <th>0</th>\n",
       "      <td>2</td>\n",
       "      <td>sam</td>\n",
       "    </tr>\n",
       "    <tr>\n",
       "      <th>1</th>\n",
       "      <td>3</td>\n",
       "      <td>sally</td>\n",
       "    </tr>\n",
       "  </tbody>\n",
       "</table>\n",
       "</div>"
      ],
      "text/plain": [
       "   id   name\n",
       "0   2    sam\n",
       "1   3  sally"
      ]
     },
     "metadata": {},
     "output_type": "display_data"
    },
    {
     "name": "stderr",
     "output_type": "stream",
     "text": [
      "test_query (__main__.Problem2Test) ... ok\n",
      "\n",
      "----------------------------------------------------------------------\n",
      "Ran 1 test in 0.009s\n",
      "\n",
      "OK\n"
     ]
    },
    {
     "data": {
      "text/plain": [
       "<unittest.main.TestProgram at 0x11d27fc50>"
      ]
     },
     "execution_count": 13,
     "metadata": {},
     "output_type": "execute_result"
    }
   ],
   "source": [
    "\n",
    "class Problem2Test(unittest.TestCase):\n",
    "    \n",
    "    @classmethod\n",
    "    def setUpClass(cls):\n",
    "        query = \"\"\"\n",
    "            SELECT c.id, c.name from customers AS c\n",
    "            LEFT JOIN orders AS o\n",
    "            ON o.customer_id = c.id\n",
    "            WHERE customer_id IS NULL\n",
    "        \"\"\"\n",
    "        cls.df = pd.read_sql(query, engine)\n",
    "        display(cls.df)\n",
    "    \n",
    "    def test_query(self):\n",
    "        \n",
    "        df = self.df\n",
    "\n",
    "        self.assertEqual(len(df), 2)\n",
    "        \n",
    "        keys = df.keys()\n",
    "        self.assertIn('id', keys)\n",
    "        self.assertIn('name', keys)\n",
    "        \n",
    "        self.assertTrue((df['name'] == 'sally').any)\n",
    "        self.assertTrue((df['name'] == 'sam').any)\n",
    "        \n",
    "\n",
    "# Run the unit tests          \n",
    "unittest.main(defaultTest=\"Problem2Test\", argv=['ignored', '-v'], exit=False)\n"
   ]
  },
  {
   "cell_type": "markdown",
   "metadata": {
    "inputHidden": false,
    "outputHidden": false
   },
   "source": [
    "## Problem 3: Associate Customer Name with Orders\n",
    "*10 Points*\n",
    "\n",
    "For each `order` list the customer name associated with the order. If no customer exists for an order omit the row.\n",
    "\n",
    "The resulting relation will have the following attributes:\n",
    "\n",
    "| `order_id` | `customer_name` | `amount`     |\n",
    "| ---------- | --------------- | ------------ |\n",
    "| Order ID   | Customer Name   | Order Amount |\n"
   ]
  },
  {
   "cell_type": "code",
   "execution_count": 14,
   "metadata": {},
   "outputs": [
    {
     "data": {
      "text/html": [
       "<div>\n",
       "<style scoped>\n",
       "    .dataframe tbody tr th:only-of-type {\n",
       "        vertical-align: middle;\n",
       "    }\n",
       "\n",
       "    .dataframe tbody tr th {\n",
       "        vertical-align: top;\n",
       "    }\n",
       "\n",
       "    .dataframe thead th {\n",
       "        text-align: right;\n",
       "    }\n",
       "</style>\n",
       "<table border=\"1\" class=\"dataframe\">\n",
       "  <thead>\n",
       "    <tr style=\"text-align: right;\">\n",
       "      <th></th>\n",
       "      <th>order_id</th>\n",
       "      <th>customer_name</th>\n",
       "      <th>amount</th>\n",
       "    </tr>\n",
       "  </thead>\n",
       "  <tbody>\n",
       "    <tr>\n",
       "      <th>0</th>\n",
       "      <td>1</td>\n",
       "      <td>john</td>\n",
       "      <td>20.99</td>\n",
       "    </tr>\n",
       "    <tr>\n",
       "      <th>1</th>\n",
       "      <td>2</td>\n",
       "      <td>john</td>\n",
       "      <td>55.00</td>\n",
       "    </tr>\n",
       "    <tr>\n",
       "      <th>2</th>\n",
       "      <td>4</td>\n",
       "      <td>liza</td>\n",
       "      <td>190.72</td>\n",
       "    </tr>\n",
       "    <tr>\n",
       "      <th>3</th>\n",
       "      <td>5</td>\n",
       "      <td>paul</td>\n",
       "      <td>12.33</td>\n",
       "    </tr>\n",
       "  </tbody>\n",
       "</table>\n",
       "</div>"
      ],
      "text/plain": [
       "   order_id customer_name  amount\n",
       "0         1          john   20.99\n",
       "1         2          john   55.00\n",
       "2         4          liza  190.72\n",
       "3         5          paul   12.33"
      ]
     },
     "metadata": {},
     "output_type": "display_data"
    },
    {
     "name": "stderr",
     "output_type": "stream",
     "text": [
      "test_query (__main__.Problem3Test) ... ok\n",
      "\n",
      "----------------------------------------------------------------------\n",
      "Ran 1 test in 0.011s\n",
      "\n",
      "OK\n"
     ]
    },
    {
     "data": {
      "text/plain": [
       "<unittest.main.TestProgram at 0x11d2b9320>"
      ]
     },
     "execution_count": 14,
     "metadata": {},
     "output_type": "execute_result"
    }
   ],
   "source": [
    "\n",
    "class Problem3Test(unittest.TestCase):\n",
    "    \n",
    "    @classmethod\n",
    "    def setUpClass(cls):\n",
    "        query = \"\"\"\n",
    "            SELECT o.id AS order_id, c.name AS customer_name, o.amount AS amount\n",
    "            FROM customers AS c\n",
    "            JOIN orders AS o\n",
    "            ON c.id = o.customer_id\n",
    "        \"\"\"\n",
    "        cls.df = pd.read_sql(query, engine)\n",
    "        display(cls.df)\n",
    "    \n",
    "    def test_query(self):\n",
    "        \n",
    "        df = self.df\n",
    "\n",
    "        self.assertEqual(len(df), 4)\n",
    "        \n",
    "        keys = df.keys()\n",
    "#        self.assertIn('id', keys)\n",
    "        self.assertIn('order_id', keys)\n",
    "        self.assertIn('customer_name', keys)\n",
    "        self.assertIn('amount', keys)\n",
    "        \n",
    "        for name in ['john', 'liza', 'paul']:\n",
    "            self.assertTrue((df['customer_name'] == name).any)\n",
    "        \n",
    "\n",
    "# Run the unit tests          \n",
    "unittest.main(defaultTest=\"Problem3Test\", argv=['ignored', '-v'], exit=False)\n",
    "\n",
    "\n"
   ]
  },
  {
   "cell_type": "markdown",
   "metadata": {
    "inputHidden": false,
    "outputHidden": false
   },
   "source": [
    "## Problem 4: List Orders Per Customers, Include Customers Without Orders\n",
    "*10 Points*\n",
    "\n",
    "For each customer, list the orders associated with the customer. However, in the case where a customer does not have any orders include the customer in the output relation. \n",
    "\n",
    "|`customer_id`|`customer_name`|`order_id` |`amount`|\n",
    "|--|--|--|--|\n",
    "|Customer ID| Customer Name| Order ID | Order Amount |\n",
    "\n",
    "Some customers (e.g., John) have multiple orders. Others have none. In contrast with the problem above, also include the customers that don't have any rows in the result. These rows will have NULL values for their respective `order_id` and `amount` attributes.\n"
   ]
  },
  {
   "cell_type": "code",
   "execution_count": 15,
   "metadata": {
    "inputHidden": false,
    "outputHidden": false
   },
   "outputs": [
    {
     "data": {
      "text/html": [
       "<div>\n",
       "<style scoped>\n",
       "    .dataframe tbody tr th:only-of-type {\n",
       "        vertical-align: middle;\n",
       "    }\n",
       "\n",
       "    .dataframe tbody tr th {\n",
       "        vertical-align: top;\n",
       "    }\n",
       "\n",
       "    .dataframe thead th {\n",
       "        text-align: right;\n",
       "    }\n",
       "</style>\n",
       "<table border=\"1\" class=\"dataframe\">\n",
       "  <thead>\n",
       "    <tr style=\"text-align: right;\">\n",
       "      <th></th>\n",
       "      <th>customer_id</th>\n",
       "      <th>customer_name</th>\n",
       "      <th>order_id</th>\n",
       "      <th>amount</th>\n",
       "    </tr>\n",
       "  </thead>\n",
       "  <tbody>\n",
       "    <tr>\n",
       "      <th>0</th>\n",
       "      <td>1</td>\n",
       "      <td>john</td>\n",
       "      <td>1.0</td>\n",
       "      <td>20.99</td>\n",
       "    </tr>\n",
       "    <tr>\n",
       "      <th>1</th>\n",
       "      <td>1</td>\n",
       "      <td>john</td>\n",
       "      <td>2.0</td>\n",
       "      <td>55.00</td>\n",
       "    </tr>\n",
       "    <tr>\n",
       "      <th>2</th>\n",
       "      <td>2</td>\n",
       "      <td>sam</td>\n",
       "      <td>NaN</td>\n",
       "      <td>NaN</td>\n",
       "    </tr>\n",
       "    <tr>\n",
       "      <th>3</th>\n",
       "      <td>3</td>\n",
       "      <td>sally</td>\n",
       "      <td>NaN</td>\n",
       "      <td>NaN</td>\n",
       "    </tr>\n",
       "    <tr>\n",
       "      <th>4</th>\n",
       "      <td>4</td>\n",
       "      <td>paul</td>\n",
       "      <td>5.0</td>\n",
       "      <td>12.33</td>\n",
       "    </tr>\n",
       "    <tr>\n",
       "      <th>5</th>\n",
       "      <td>5</td>\n",
       "      <td>liza</td>\n",
       "      <td>4.0</td>\n",
       "      <td>190.72</td>\n",
       "    </tr>\n",
       "  </tbody>\n",
       "</table>\n",
       "</div>"
      ],
      "text/plain": [
       "   customer_id customer_name  order_id  amount\n",
       "0            1          john       1.0   20.99\n",
       "1            1          john       2.0   55.00\n",
       "2            2           sam       NaN     NaN\n",
       "3            3         sally       NaN     NaN\n",
       "4            4          paul       5.0   12.33\n",
       "5            5          liza       4.0  190.72"
      ]
     },
     "metadata": {},
     "output_type": "display_data"
    },
    {
     "name": "stderr",
     "output_type": "stream",
     "text": [
      "test_query (__main__.Problem4Test) ... ok\n",
      "\n",
      "----------------------------------------------------------------------\n",
      "Ran 1 test in 0.018s\n",
      "\n",
      "OK\n"
     ]
    },
    {
     "data": {
      "text/plain": [
       "<unittest.main.TestProgram at 0x11d27fe48>"
      ]
     },
     "execution_count": 15,
     "metadata": {},
     "output_type": "execute_result"
    }
   ],
   "source": [
    "class Problem4Test(unittest.TestCase):\n",
    "    \n",
    "    @classmethod\n",
    "    def setUpClass(cls):\n",
    "        query = \"\"\"\n",
    "            SELECT c.id AS customer_id, c.name AS customer_name, o.id AS order_id, o.amount AS amount\n",
    "            FROM customers AS c\n",
    "            LEFT JOIN orders AS o\n",
    "            ON c.id = o.customer_id\n",
    "        \"\"\"\n",
    "        cls.df = pd.read_sql(query, engine)\n",
    "        display(cls.df)\n",
    "    \n",
    "    def test_query(self):\n",
    "        \n",
    "        df = self.df\n",
    "        self.assertTrue(type(df))\n",
    "        self.assertEqual(len(df), 6)\n",
    "        \n",
    "        keys = df.keys()\n",
    "        self.assertIn('customer_id', keys)\n",
    "        self.assertIn('customer_name', keys)\n",
    "        self.assertIn('order_id', keys)\n",
    "        self.assertIn('amount', keys)\n",
    "        \n",
    "        # john should have two orders\n",
    "        self.assertEqual(len(df[df['customer_name'] == 'john']), 2)\n",
    "\n",
    "        for name in ['sam', 'sally']:\n",
    "            r = df[df['customer_name'] == name].iloc[0]\n",
    "            self.assertTrue(math.isnan(r['order_id']))\n",
    "            self.assertTrue(math.isnan(r['amount']))\n",
    "            \n",
    "\n",
    "# Run the unit tests          \n",
    "unittest.main(defaultTest=\"Problem4Test\", argv=['ignored', '-v'], exit=False)\n"
   ]
  },
  {
   "cell_type": "markdown",
   "metadata": {
    "inputHidden": false,
    "outputHidden": false
   },
   "source": [
    "## Problem 5: Compute Total Amount Spent Per Customer\n",
    "\n",
    "For each customer, list the `total` spend for that customer. That is you will sum the totals for each order by a customer. If a customer does not have any associated orders, print `0`. The resulting relation will have a single row for each customer in the customers table.\n",
    "\n",
    "The output table will have the following attributes:\n",
    "\n",
    "| `customer_id` | `customer_name` | `order_count`                 | `total`                   |\n",
    "| ------------- | --------------- | ----------------------------- | ------------------------- |\n",
    "| Order ID      | Customer Name   | Number of orders per customer | Total Amount Spent or `0` |\n",
    "\n",
    "\n",
    "You should use the SQL [`coalesce` function](https://www.w3schools.com/sql/func_sqlserver_coalesce.asp) to replace a NULL value for `total` with a zero.\n",
    "\n",
    "Use the [`count`](https://www.w3schools.com/sql/sql_count_avg_sum.asp) function to compute the number of orders per customer\n"
   ]
  },
  {
   "cell_type": "code",
   "execution_count": 32,
   "metadata": {
    "inputHidden": false,
    "outputHidden": false
   },
   "outputs": [
    {
     "data": {
      "text/html": [
       "<div>\n",
       "<style scoped>\n",
       "    .dataframe tbody tr th:only-of-type {\n",
       "        vertical-align: middle;\n",
       "    }\n",
       "\n",
       "    .dataframe tbody tr th {\n",
       "        vertical-align: top;\n",
       "    }\n",
       "\n",
       "    .dataframe thead th {\n",
       "        text-align: right;\n",
       "    }\n",
       "</style>\n",
       "<table border=\"1\" class=\"dataframe\">\n",
       "  <thead>\n",
       "    <tr style=\"text-align: right;\">\n",
       "      <th></th>\n",
       "      <th>customer_id</th>\n",
       "      <th>customer_name</th>\n",
       "      <th>order_count</th>\n",
       "      <th>total</th>\n",
       "    </tr>\n",
       "  </thead>\n",
       "  <tbody>\n",
       "    <tr>\n",
       "      <th>0</th>\n",
       "      <td>1</td>\n",
       "      <td>john</td>\n",
       "      <td>2</td>\n",
       "      <td>75.99</td>\n",
       "    </tr>\n",
       "    <tr>\n",
       "      <th>1</th>\n",
       "      <td>2</td>\n",
       "      <td>sam</td>\n",
       "      <td>0</td>\n",
       "      <td>0.00</td>\n",
       "    </tr>\n",
       "    <tr>\n",
       "      <th>2</th>\n",
       "      <td>3</td>\n",
       "      <td>sally</td>\n",
       "      <td>0</td>\n",
       "      <td>0.00</td>\n",
       "    </tr>\n",
       "    <tr>\n",
       "      <th>3</th>\n",
       "      <td>4</td>\n",
       "      <td>paul</td>\n",
       "      <td>1</td>\n",
       "      <td>12.33</td>\n",
       "    </tr>\n",
       "    <tr>\n",
       "      <th>4</th>\n",
       "      <td>5</td>\n",
       "      <td>liza</td>\n",
       "      <td>1</td>\n",
       "      <td>190.72</td>\n",
       "    </tr>\n",
       "  </tbody>\n",
       "</table>\n",
       "</div>"
      ],
      "text/plain": [
       "   customer_id customer_name  order_count   total\n",
       "0            1          john            2   75.99\n",
       "1            2           sam            0    0.00\n",
       "2            3         sally            0    0.00\n",
       "3            4          paul            1   12.33\n",
       "4            5          liza            1  190.72"
      ]
     },
     "metadata": {},
     "output_type": "display_data"
    },
    {
     "name": "stderr",
     "output_type": "stream",
     "text": [
      "test_query (__main__.Problem5Test) ... ok\n",
      "\n",
      "----------------------------------------------------------------------\n",
      "Ran 1 test in 0.021s\n",
      "\n",
      "OK\n"
     ]
    },
    {
     "data": {
      "text/plain": [
       "<unittest.main.TestProgram at 0x11d3aed68>"
      ]
     },
     "execution_count": 32,
     "metadata": {},
     "output_type": "execute_result"
    }
   ],
   "source": [
    "class Problem5Test(unittest.TestCase):\n",
    "    \n",
    "    @classmethod\n",
    "    def setUpClass(cls):\n",
    "        query = \"\"\"\n",
    "            SELECT c.id AS customer_id, c.name AS customer_name, \n",
    "            COUNT(o.customer_id) AS order_count, COALESCE(SUM(o.amount), 0) AS total\n",
    "                FROM customers AS c\n",
    "                LEFT JOIN orders AS o\n",
    "                ON c.id = o.customer_id \n",
    "                GROUP BY c.id\n",
    "        \"\"\"\n",
    "        cls.df = pd.read_sql(query, engine)\n",
    "        display(cls.df)\n",
    "    \n",
    "    def test_query(self):\n",
    "        \n",
    "        df = self.df\n",
    "        self.assertTrue(type(df))\n",
    "        self.assertEqual(len(df), 5)\n",
    "        \n",
    "        keys = df.keys()\n",
    "        self.assertIn('customer_id', keys)\n",
    "        self.assertIn('customer_name', keys)\n",
    "        self.assertIn('order_count', keys)\n",
    "        self.assertIn('total', keys)\n",
    "        \n",
    "        expected = {\n",
    "            'john': (2, 75.99),\n",
    "            'sam': (0, 0.00),\n",
    "            'sally': (0, 0.00),\n",
    "            'paul': (1, 12.33),\n",
    "            'liza': (1, 190.72),\n",
    "        }\n",
    "        \n",
    "        for name, val in expected.items():\n",
    "            cnt = val[0]\n",
    "            total = val[1]\n",
    "            r = df[df['customer_name'] == name].iloc[0]\n",
    "            self.assertEqual(r['order_count'], cnt)\n",
    "            self.assertEqual(r['total'], total)\n",
    "\n",
    "            \n",
    "\n",
    "# Run the unit tests          \n",
    "unittest.main(defaultTest=\"Problem5Test\", argv=['ignored', '-v'], exit=False)\n"
   ]
  },
  {
   "cell_type": "markdown",
   "metadata": {
    "inputHidden": false,
    "outputHidden": false
   },
   "source": [
    "## Problem 6: Find Customers Who Spent More than $70\n",
    "*10 Points*\n",
    "\n",
    "This problem is identical to the one above, except that you will filter out customers who spent less in total than $70. As above, your result relation will have the following columns:\n",
    "\n",
    "| `customer_id` | `customer_name` | `order_count`                 | `total`                   |\n",
    "| ------------- | --------------- | ----------------------------- | ------------------------- |\n",
    "| Order ID      | Customer Name   | Number of orders per customer | Total Amount Spent or `0` |"
   ]
  },
  {
   "cell_type": "code",
   "execution_count": 33,
   "metadata": {
    "inputHidden": false,
    "outputHidden": false
   },
   "outputs": [
    {
     "data": {
      "text/html": [
       "<div>\n",
       "<style scoped>\n",
       "    .dataframe tbody tr th:only-of-type {\n",
       "        vertical-align: middle;\n",
       "    }\n",
       "\n",
       "    .dataframe tbody tr th {\n",
       "        vertical-align: top;\n",
       "    }\n",
       "\n",
       "    .dataframe thead th {\n",
       "        text-align: right;\n",
       "    }\n",
       "</style>\n",
       "<table border=\"1\" class=\"dataframe\">\n",
       "  <thead>\n",
       "    <tr style=\"text-align: right;\">\n",
       "      <th></th>\n",
       "      <th>customer_id</th>\n",
       "      <th>customer_name</th>\n",
       "      <th>order_count</th>\n",
       "      <th>total</th>\n",
       "    </tr>\n",
       "  </thead>\n",
       "  <tbody>\n",
       "    <tr>\n",
       "      <th>0</th>\n",
       "      <td>1</td>\n",
       "      <td>john</td>\n",
       "      <td>2</td>\n",
       "      <td>75.99</td>\n",
       "    </tr>\n",
       "    <tr>\n",
       "      <th>1</th>\n",
       "      <td>5</td>\n",
       "      <td>liza</td>\n",
       "      <td>1</td>\n",
       "      <td>190.72</td>\n",
       "    </tr>\n",
       "  </tbody>\n",
       "</table>\n",
       "</div>"
      ],
      "text/plain": [
       "   customer_id customer_name  order_count   total\n",
       "0            1          john            2   75.99\n",
       "1            5          liza            1  190.72"
      ]
     },
     "metadata": {},
     "output_type": "display_data"
    },
    {
     "name": "stderr",
     "output_type": "stream",
     "text": [
      "test_query (__main__.Problem6Test) ... ok\n",
      "\n",
      "----------------------------------------------------------------------\n",
      "Ran 1 test in 0.023s\n",
      "\n",
      "OK\n"
     ]
    },
    {
     "data": {
      "text/plain": [
       "<unittest.main.TestProgram at 0x11d2a31d0>"
      ]
     },
     "execution_count": 33,
     "metadata": {},
     "output_type": "execute_result"
    }
   ],
   "source": [
    "class Problem6Test(unittest.TestCase):\n",
    "    \n",
    "    @classmethod\n",
    "    def setUpClass(cls):\n",
    "        query = \"\"\"\n",
    "            SELECT c.id AS customer_id, c.name AS customer_name, COUNT(o.customer_id) AS order_count, \n",
    "            COALESCE(SUM(o.amount), 0) AS total\n",
    "            FROM customers AS c\n",
    "            LEFT JOIN orders AS o\n",
    "            ON c.id = o.customer_id\n",
    "            GROUP BY c.id\n",
    "            HAVING total > 70;\n",
    "        \"\"\"\n",
    "        cls.df = pd.read_sql(query, engine)\n",
    "        display(cls.df)\n",
    "    \n",
    "    def test_query(self):\n",
    "        \n",
    "        df = self.df\n",
    "        self.assertTrue(type(df))\n",
    "        self.assertEqual(len(df), 2)\n",
    "        \n",
    "        keys = df.keys()\n",
    "        self.assertIn('customer_id', keys)\n",
    "        self.assertIn('customer_name', keys)\n",
    "        self.assertIn('order_count', keys)\n",
    "        self.assertIn('total', keys)\n",
    "        \n",
    "        expected = {\n",
    "            'john': (2, 75.99),\n",
    "            'liza': (1, 190.72),\n",
    "        }\n",
    "        \n",
    "        for name, val in expected.items():\n",
    "            cnt = val[0]\n",
    "            total = val[1]\n",
    "            r = df[df['customer_name'] == name].iloc[0]\n",
    "            self.assertEqual(r['order_count'], cnt)\n",
    "            self.assertEqual(r['total'], total)\n",
    "\n",
    "            \n",
    "\n",
    "# Run the unit tests          \n",
    "unittest.main(defaultTest=\"Problem6Test\", argv=['ignored', '-v'], exit=False)\n"
   ]
  },
  {
   "cell_type": "code",
   "execution_count": null,
   "metadata": {},
   "outputs": [],
   "source": []
  }
 ],
 "metadata": {
  "kernel_info": {
   "name": "python3"
  },
  "kernelspec": {
   "display_name": "Python 3",
   "language": "python",
   "name": "python3"
  },
  "language_info": {
   "codemirror_mode": {
    "name": "ipython",
    "version": 3
   },
   "file_extension": ".py",
   "mimetype": "text/x-python",
   "name": "python",
   "nbconvert_exporter": "python",
   "pygments_lexer": "ipython3",
   "version": "3.7.1"
  },
  "nteract": {
   "version": "0.12.3"
  }
 },
 "nbformat": 4,
 "nbformat_minor": 4
}
