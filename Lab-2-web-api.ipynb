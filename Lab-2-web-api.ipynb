{
 "cells": [
  {
   "cell_type": "markdown",
   "metadata": {
    "inputHidden": false,
    "outputHidden": false
   },
   "source": [
    "# Web Services with Flask\n",
    "*Due Tuesday, February 26, 5 PM*\n",
    "\n",
    "    \n",
    "In this Lab we explore the construction of a web service with [Flask](http://flask.pocoo.org), a microframework for Python. We chose Flask because it's a prominent framework for Python, it's simple, and it's emblematic of frameworks for in other languages. Learn Flask and you'll find NodeJS (Javascript), Rails or Sinatra (Ruby), or Beego (Golang) immediately familiar. That's because the concepts behind all web frameworks are essentially similar, although details vary considerably. \n",
    "\n",
    "## A University App\n",
    "\n",
    "Over the next few weeks we're going to construct a fairly substantial web service and app, one that models a simplified version of a university. \n",
    "\n",
    "This university will consist of the following entities:\n",
    "\n",
    "* `students` (because, of course)\n",
    "* `professors` (an unnecessary evil)\n",
    "* `courses` (hey, why not?)\n",
    "* `assignments` (you hate them, we hate 'em too)\n",
    "*  `grades` (the meaning of life)\n",
    "\n",
    "In this simulated world, professors create and manage courses, students sign up for these courses, professors create assignents and grade them. These abstractions are linked together. For example, courses belong to professors and have students and assignments. \n",
    "\n",
    "The university app will have several components:\n",
    "\n",
    "1. An API, implemented as a web service.\n",
    "2. A persistence layer that models the entities above (students, courses, etc) in a relational database.\n",
    "2. A model layer that implements the 'logic' of the application. The model sits between the API and the persistence layer. It abstracts and hides the details of persistence away from the API layer.\n",
    "2. Clients. These can be web apps, desktop apps, mobile apps, or even command-line tools. What's important is that this architecture cleanly separates the UI from the API.\n",
    "\n",
    "*Question*: you might be wondering about the connection between this exercise and data engineering. \n",
    "\n",
    "*Answer*? Absolutely nothing. At least not the surface. But, again, the concepts will translate. Someday you might be asked to create a data warehouse. That warehouse will be modeled very similarly to the one here.\n",
    "\n",
    "## Concepts and Plan\n",
    "\n",
    "The accompanying lecture covers the main concepts: web services, their relevance to data science, HTTP, REST APIs, routing, and so on. We'll assume you are familiar with the basics already.\n",
    "\n",
    "The plan with the university app is to work incrementally: to begin on the outside and proceed inward. Here 'outside' is the API. We'll begin by 'stubbing' out one. That is, we'll create one resource (users--students and professors) and define the operations we might want to perform on these users. Over the next few weeks we'll add more resources (e.g., assignments) and create a persistence layer with a database. By the time you are done, you will have a complete app that can be deployed to the cloud and accessed from command-line clients, and web, mobile or desktop apps."
   ]
  },
  {
   "cell_type": "markdown",
   "metadata": {
    "inputHidden": false,
    "outputHidden": false
   },
   "source": [
    "## Users: Students and Professors\n",
    "\n",
    "\n",
    "For simplicity, we'll amalgamate students and professors into a single resource called `user` and delineate them by a `role` attribute. A single `user` resource will simplify authentication (which we'll skip in this app) and allow us to implement __authorization__ students from grading assignments and not preclude professors from taking courses.\n",
    "\n",
    "A real app might track information about a professor separately (e.g., rank, salary, hire date) separately, and similarly for students. This information could be linked to the user depending on their role.\n",
    "\n",
    "We'll track the following information about `users`:\n",
    "\n",
    "```json\n",
    "{\n",
    "    id: 'unique ID',\n",
    "    first_name: 'first name',\n",
    "    last_name: 'last name',\n",
    "    email: 'email address',\n",
    "    role: 'student or professor'\n",
    "}\n",
    "```\n",
    "\n",
    "* GET `/users`: list all users\n",
    "* GET `/users/{:id}`: retrieve a user detail by ID\n",
    "* POST `/users`: create a user\n",
    "* PATCH `/users/{:id}`: update a user indexed by ID\n",
    "* DELETE:\n",
    "\n",
    "## Courses\n",
    "\n",
    "This resource manages courses. It will have the following attributes:\n",
    "\n",
    "```json\n",
    "{\n",
    "    id: 'unique ID of this course',\n",
    "    professor_id: 'id of professor teaching this course',\n",
    "    name: 'course name',\n",
    "    year: 'course year',\n",
    "    semester: 'fall, spring or summer',\n",
    "}\n",
    "```\n",
    "\n",
    "* GET `/courses`: list all courses\n",
    "* GET `/courses?proffessor={:professor_id}`: all courses offered by a given professor\n",
    "* GET `/courses?student={:student_id}`: all courses taken by a student\n",
    "* POST `/courses`: create a course. Details of the course (`name`, `professor_id`, `semester` will be passed as a JSON object in the POST body)\n",
    "\n",
    "## Course Students\n",
    "\n",
    "This resource manages students taking a course.\n",
    "\n",
    "It will have the following attributes:\n",
    "\n",
    "```json\n",
    "{\n",
    "    course_id: 'unique ID of the course',\n",
    "    student_id: 'ID of student',\n",
    "    grade: 'the current grade of the student, might be computed'\n",
    "}\n",
    "```\n",
    "\n",
    "* GET `/course_students?course_id={:id}`: list students for a given `course_id`\n",
    "* POST `/course_students/course_id={:id}`: add a student to a course. The body of the POST will specify the student by their ID.\n",
    "* GET `/course_students?course_id={:id}/{:student_id}` retrieve information the students status in this course, including their course grade.\n",
    "* DELETE `/course_students/course_id={:id}`: delete student from a course\n",
    "\n",
    "## Assignments\n",
    "\n",
    "An `assignment` will have the following attributes:\n",
    "\n",
    "```json\n",
    "{\n",
    "    id: 'unique assignment ID',\n",
    "    course_id: 'the course to which this assignment belongs',\n",
    "    name: 'name of the assignment',\n",
    "    due_date: 'due date',\n",
    "    total_points: 'total points for this assignment'\n",
    "}\n",
    "```\n",
    "* GET `/assignments/course_id={:course_id}`: list assignments by course\n",
    "* POST `/assignments/course_id={:course_id}`: create an assignment\n",
    "* GET `/assignments/{:id}`: retrieve assignment details by it's ID\n",
    "* PATCH `/assignments/{:id}`: update an assignment.\n",
    "* DELETE `/assignments/{:id}`: delete the assignment\n",
    "\n",
    "## Assignment Grades\n",
    "\n",
    "Assignment Grades links assignments with students\n",
    "```json\n",
    "{\n",
    "    assignment_id: 'assignment this grade belongs to',\n",
    "    user_id: 'the student being assigned a grade',\n",
    "    points: 'number of points allocated for this assignment'\n",
    "    grade: 'pick your poison'\n",
    "}\n",
    "```\n",
    "* GET `/assignment_grades?assignent_id={:id}`\n",
    "* POST `/assignment_grades?assignment_id={:id}`: set a student's grade for an assignment. The body will contain the `user_id` and `grade`. Note that this operation should prevent students who aren't enrolled in a course from being assigned a grade. This kind of logic would be enforced in the model layer described above.\n",
    "* PATCH `assignment_grades?assignment_id={:id}`: update a student's grade for an assignment. The body of the operation will contain an object that references the `student_id` and their `grade`.\n"
   ]
  },
  {
   "cell_type": "markdown",
   "metadata": {
    "inputHidden": false,
    "outputHidden": false
   },
   "source": [
    "# Lab/Homework: A Flask API for a User Resource\n",
    "\n",
    "For this lab, we'll have to leave the confines of the Jupyter notebook to run the app server. The API will be implemented with the Flask framework. Source code for a skeleton starter project is [here](https://www.dropbox.com/s/ud7czf8ejeyem2u/university-api-server.zip?dl=0). Download and unzip the file. This will create a folder called `university-api-server`.\n",
    "\n",
    "`cd` into the folder and start up flask like so:\n",
    "\n",
    "> ```bash\n",
    "$ export FLASK_APP=api.py\n",
    "$ export FLASK_ENV=development\n",
    "$ flask run\n",
    "\n",
    "By default this will start the server on port `5000`.\n",
    "\n",
    "You can try accessing the server by navigating to `http://localhost:5000/users` on your browser.\n",
    "\n",
    "I have taken the liberty of stubbing out the operations to list, create, read, and update `users` in. Your job in this exercise is understand the structure of a flask app and fill in the implementation of each stubbed operation. Note that in this iteration of the app, the `user` resource isn't persisted yet. Instead, you will store updates to `users` in a Python array. This means that all changes will be lost whenever the server is taken down. We'll be extending this app with a database layer in the coming weeks.\n",
    "\n",
    "To simplify your task, I've also created a set of unit tests below to ensure that your API adheres to some basic requirements. Study the the unit test code closely. It shows basic usage of `requests`, a Python library for HTTP clients. I highly recommend your looking at the documentation [here](http://docs.python-requests.org/en/master/).\n",
    "\n",
    "## Imports\n",
    "\n"
   ]
  },
  {
   "cell_type": "code",
   "execution_count": 1,
   "metadata": {
    "inputHidden": false,
    "outputHidden": false
   },
   "outputs": [],
   "source": [
    "import unittest\n",
    "import requests\n",
    "import json\n",
    "\n",
    "# The base URL for all HTTP requests\n",
    "BASE = 'http://localhost:5000/users'\n",
    "\n",
    "# set Content-Type to application/json for all HTTP requests\n",
    "headers={'Content-Type': 'application/json'}"
   ]
  },
  {
   "cell_type": "markdown",
   "metadata": {
    "inputHidden": false,
    "outputHidden": false
   },
   "source": [
    "## Problem Set\n",
    "*60 Points Total*\n",
    "\n",
    "You'll be implementing the following operations on a `/users` resource:\n",
    "\n",
    "| METHOD                       | Description                   |\n",
    "| ---------------------------- | ----------------------------- |\n",
    "| `GET /users`                 | List all users                |\n",
    "| `POST /users`                | Create a User                 |\n",
    "| `GET /users/:id`             | Retrieve a user by `id`       |\n",
    "| `PUT/PATCH /users/:id`       | Update a user with given `id` |\n",
    "| `POST /users/:id/deactivate` | Deactivate a user             |\n",
    "\n",
    "Note that we won't support `DELETE` on this resource. We'll want to prevent users from being deleted. This is because they are typically retained for historical purposes. For this reason, you implement a `/deactivate` operation instead.\n",
    "\n",
    "## Problem 1: List Users\n",
    "*10 Points*\n",
    "\n",
    "Modify `api.py` to retrieve the collection of users. Essentially, you will return the contents of the `USERS` as JSON. See the documentaton of [`jsonify`](http://flask.pocoo.org/docs/1.0/api/) for details on how to convert a Python object to JSON.\n",
    "\n",
    "Run the test below to show that your code is correct.\n"
   ]
  },
  {
   "cell_type": "code",
   "execution_count": 2,
   "metadata": {
    "inputHidden": false,
    "outputHidden": false
   },
   "outputs": [
    {
     "name": "stderr",
     "output_type": "stream",
     "text": [
      "test_users_get_collection (__main__.Problem1Test) ... ok\n",
      "\n",
      "----------------------------------------------------------------------\n",
      "Ran 1 test in 0.019s\n",
      "\n",
      "OK\n"
     ]
    },
    {
     "data": {
      "text/plain": [
       "<unittest.main.TestProgram at 0x106fedf98>"
      ]
     },
     "execution_count": 2,
     "metadata": {},
     "output_type": "execute_result"
    }
   ],
   "source": [
    "\n",
    "class Problem1Test(unittest.TestCase):\n",
    "    \n",
    "    # test\n",
    "    def test_users_get_collection(self):\n",
    "        r = requests.get(BASE, headers = headers)\n",
    "        self.assertEqual(r.status_code, 200)\n",
    "        \n",
    "        j = r.json()\n",
    "        self.assertEqual(type(j), list)\n",
    "        self.assertGreater(len(j), 0)\n",
    "        \n",
    "        # extract the first element of the list\n",
    "        first = j[0]\n",
    "\n",
    "        # check all attributes exist\n",
    "        self.assertIn('id', first)\n",
    "        self.assertIn('first', first)\n",
    "        self.assertIn('last', first)\n",
    "        self.assertIn('email', first)\n",
    "        self.assertIn('role', first)\n",
    "        self.assertIn('active', first)\n",
    "\n",
    "    \n",
    "\n",
    "# Run the unit tests          \n",
    "unittest.main(defaultTest=\"Problem1Test\", argv=['ignored', '-v'], exit=False)\n",
    "                         "
   ]
  },
  {
   "cell_type": "markdown",
   "metadata": {
    "inputHidden": false,
    "outputHidden": false
   },
   "source": [
    "## Problem 2: Retrieve a Single User\n",
    "*10 Points*\n",
    "\n",
    "Add a method to retrieve a single user by ID. That is create a function that will route to\n",
    "\n",
    ">```bash\n",
    "GET /users/<id>\n",
    "```\n",
    "    \n",
    "See the Flask documentation for [Routing](http://flask.pocoo.org/docs/1.0/quickstart/#routing) for details on how to bind a parameter to function argument.\n",
    "\n",
    "This method shall return an HTTP status code of `200` on success and `404` (not found) if the user with the specified ID does not exist. See the unit tests below."
   ]
  },
  {
   "cell_type": "code",
   "execution_count": 3,
   "metadata": {
    "inputHidden": false,
    "outputHidden": false
   },
   "outputs": [
    {
     "name": "stderr",
     "output_type": "stream",
     "text": [
      "test_users_get_member (__main__.Problem2Test) ... ok\n",
      "test_users_wont_get_nonexistent_member (__main__.Problem2Test) ... "
     ]
    },
    {
     "name": "stdout",
     "output_type": "stream",
     "text": [
      "{'Content-Type': 'application/json', 'Content-Length': '125', 'Server': 'Werkzeug/0.14.1 Python/3.7.1', 'Date': 'Tue, 26 Feb 2019 02:15:33 GMT'}\n"
     ]
    },
    {
     "name": "stderr",
     "output_type": "stream",
     "text": [
      "ok\n",
      "\n",
      "----------------------------------------------------------------------\n",
      "Ran 2 tests in 0.030s\n",
      "\n",
      "OK\n"
     ]
    },
    {
     "data": {
      "text/plain": [
       "<unittest.main.TestProgram at 0x107004f28>"
      ]
     },
     "execution_count": 3,
     "metadata": {},
     "output_type": "execute_result"
    }
   ],
   "source": [
    "\n",
    "class Problem2Test(unittest.TestCase):\n",
    "    \n",
    "    def test_users_get_member(self):\n",
    "        \n",
    "        r = requests.get(BASE + '/0')\n",
    "        self.assertEqual(r.status_code, 200)\n",
    "        print(r.headers)\n",
    "        j = r.json()\n",
    "        \n",
    "        self.assertIs(type(j), dict)\n",
    "        self.assertEqual(j['id'], 0)\n",
    "        self.assertIn('first', j)\n",
    "        self.assertIn('last', j)\n",
    "        self.assertIn('email', j)\n",
    "        self.assertIn('role', j)\n",
    "        \n",
    "    def test_users_wont_get_nonexistent_member(self):\n",
    "        \n",
    "        r = requests.get(BASE + '/1000')\n",
    "        self.assertEqual(r.status_code, 404)\n",
    "    \n",
    "# Run the unit tests          \n",
    "unittest.main(defaultTest=\"Problem2Test\", argv=['ignored', '-v'], exit=False)\n",
    "                         "
   ]
  },
  {
   "cell_type": "markdown",
   "metadata": {
    "inputHidden": false,
    "outputHidden": false
   },
   "source": [
    "## Problem 3: Create a User\n",
    "*10 Points*\n",
    "\n",
    "Create a user with the following route:\n",
    "\n",
    ">```bash\n",
    "POST /users\n",
    "```\n",
    "\n",
    "The object to be created will be passed as JSON in the HTTP body. The unit test below shows how. It will be of the form:\n",
    "\n",
    ">```json\n",
    "{\n",
    "    'first': 'first name',\n",
    "    'last': 'last name',\n",
    "    'email': 'email address',\n",
    "    'role': 'professor or student',\n",
    "}\n",
    "```\n",
    "\n",
    "Use `request.get_json()` to extract the body as JSON from the HTTP request.\n",
    "\n",
    "All of these parameters are required and your code should enforce this. If validation succeeds, add the new user to the `USERS` list and give it a unique ID. \n",
    "\n",
    "Return HTTP status code `201` (created) if the operation succeeds and `422` (Unprocessable Entity) if validation fails.\n",
    "\n",
    "The created user will be returned as JSON if the operation succeeds.\n",
    "\n",
    "Future versions of your app will enforce validation constraints more rigorously."
   ]
  },
  {
   "cell_type": "code",
   "execution_count": 4,
   "metadata": {
    "inputHidden": false,
    "outputHidden": false
   },
   "outputs": [
    {
     "name": "stderr",
     "output_type": "stream",
     "text": [
      "test_users_create (__main__.Problem3Test) ... ok\n",
      "test_wont_create_user_without_first_name (__main__.Problem3Test) ... ok\n",
      "\n",
      "----------------------------------------------------------------------\n",
      "Ran 2 tests in 0.026s\n",
      "\n",
      "OK\n"
     ]
    },
    {
     "data": {
      "text/plain": [
       "<unittest.main.TestProgram at 0x1069179e8>"
      ]
     },
     "execution_count": 4,
     "metadata": {},
     "output_type": "execute_result"
    }
   ],
   "source": [
    "\n",
    "class Problem3Test(unittest.TestCase):\n",
    "    \n",
    "    \n",
    "    def test_users_create(self):\n",
    "        data = json.dumps({'first': 'Sammy', 'last': 'Davis', 'email': 'sammy@cuny.edu'})\n",
    "\n",
    "        r = requests.post(BASE, headers = headers, data = data)\n",
    "        self.assertEqual(r.status_code, 201)\n",
    "        \n",
    "    def test_wont_create_user_without_first_name(self):\n",
    "        # simple validation (missing parameters)\n",
    "        data = json.dumps({'last': 'Davis', 'email': 'sammy@cuny.edu'})\n",
    "\n",
    "        r = requests.post(BASE, headers = headers, data = data)\n",
    "        self.assertEqual(r.status_code, 422)\n",
    "        \n",
    "        \n",
    "# Run the unit tests          \n",
    "unittest.main(defaultTest=\"Problem3Test\", argv=['ignored', '-v'], exit=False)\n",
    "                         "
   ]
  },
  {
   "cell_type": "markdown",
   "metadata": {
    "inputHidden": false,
    "outputHidden": false
   },
   "source": [
    "## Problem 4: Update a User\n",
    "*10 Points*\n",
    "\n",
    "Update a user with the following route:\n",
    "\n",
    ">```bash\n",
    "PATCH/PUT /users/<id>\n",
    "```\n",
    "    \n",
    "The parameters will be passed in the HTTP body and will be an object with a subset of the user attributes.\n",
    "    \n",
    "Return status code `200` on success, `404` if the user was not found, and `422` if another error occurred."
   ]
  },
  {
   "cell_type": "code",
   "execution_count": 5,
   "metadata": {
    "inputHidden": false,
    "outputHidden": false
   },
   "outputs": [
    {
     "name": "stderr",
     "output_type": "stream",
     "text": [
      "test_users_update_member (__main__.Problem4Test) ... ok\n",
      "test_users_update_member_not_found (__main__.Problem4Test) ... ok\n",
      "\n",
      "----------------------------------------------------------------------\n",
      "Ran 2 tests in 0.045s\n",
      "\n",
      "OK\n"
     ]
    },
    {
     "data": {
      "text/plain": [
       "<unittest.main.TestProgram at 0x107048588>"
      ]
     },
     "execution_count": 5,
     "metadata": {},
     "output_type": "execute_result"
    }
   ],
   "source": [
    "\n",
    "class Problem4Test(unittest.TestCase):\n",
    "        \n",
    "    def test_users_update_member(self):\n",
    "        data = json.dumps({'first': 'testing'})\n",
    "        r = requests.patch(BASE + '/0', headers = headers, data = data)\n",
    "        self.assertEqual(r.status_code, 200)\n",
    "        \n",
    "        j = r.json()\n",
    "        self.assertIs(type(j), dict)\n",
    "        self.assertEqual(j['id'], 0)\n",
    "        self.assertEqual(j['first'], 'testing')\n",
    "        \n",
    "        # now retrieve the same object to ensure that it was really updated\n",
    "        r = requests.get(BASE + '/0', headers = headers, data = data)\n",
    "        self.assertEqual(r.status_code, 200)\n",
    "        \n",
    "        j = r.json()\n",
    "        self.assertEqual(j['first'], 'testing')\n",
    "        \n",
    "        \n",
    "    def test_users_update_member_not_found(self):\n",
    "        data = json.dumps({'first': 'testing'})\n",
    "        r = requests.patch(BASE + '/1000', headers = headers, data = data)\n",
    "        self.assertEqual(r.status_code, 404)\n",
    "        \n",
    "        \n",
    "\n",
    "# Run the unit tests          \n",
    "unittest.main(defaultTest=\"Problem4Test\", argv=['ignored', '-v'], exit=False)\n",
    "                         "
   ]
  },
  {
   "cell_type": "markdown",
   "metadata": {
    "inputHidden": false,
    "outputHidden": false
   },
   "source": [
    "## Problem 5: Deactivate a User\n",
    "\n",
    "Deactivate a user with the route\n",
    "\n",
    ">```bash\n",
    "POST /users/<id>/deactivate\n",
    "```\n",
    "    \n",
    "This method will essentially toggle the `active` attribute for the user. Return `200` on success.\n",
    "    \n",
    "This problem shows how to implement non-REST commands."
   ]
  },
  {
   "cell_type": "code",
   "execution_count": 6,
   "metadata": {
    "inputHidden": false,
    "outputHidden": false
   },
   "outputs": [
    {
     "name": "stderr",
     "output_type": "stream",
     "text": [
      "test_users_deactivate_member (__main__.Problem5Test) ... ok\n",
      "\n",
      "----------------------------------------------------------------------\n",
      "Ran 1 test in 0.041s\n",
      "\n",
      "OK\n"
     ]
    },
    {
     "data": {
      "text/plain": [
       "<unittest.main.TestProgram at 0x106fed748>"
      ]
     },
     "execution_count": 6,
     "metadata": {},
     "output_type": "execute_result"
    }
   ],
   "source": [
    "class Problem5Test(unittest.TestCase):\n",
    "        \n",
    "    def test_users_deactivate_member(self):\n",
    "\n",
    "        r = requests.post(BASE + '/0/deactivate', headers = headers)\n",
    "        self.assertEqual(r.status_code, 200)\n",
    "        \n",
    "        j = r.json()\n",
    "        self.assertIs(type(j), dict)\n",
    "        self.assertEqual(j['active'], False)\n",
    "        \n",
    "\n",
    "# Run the unit tests          \n",
    "unittest.main(defaultTest=\"Problem5Test\", argv=['ignored', '-v'], exit=False)\n"
   ]
  },
  {
   "cell_type": "markdown",
   "metadata": {
    "inputHidden": false,
    "outputHidden": false
   },
   "source": [
    "## Problem 6\n",
    "*10 Points*\n",
    "\n",
    "It's time to start thinking about group projects. Please propose, in 100 words or less, a project you would like to do."
   ]
  },
  {
   "cell_type": "markdown",
   "metadata": {},
   "source": [
    "Since the there is an opioid crisis affecting millions of people, one project I particulally would love to work is on building a database for a hospital to store drugs prescription and detect patients being overly prescribed and/or doctors unusual drugs prescriptions."
   ]
  },
  {
   "cell_type": "markdown",
   "metadata": {},
   "source": [
    "### App code"
   ]
  },
  {
   "cell_type": "code",
   "execution_count": null,
   "metadata": {},
   "outputs": [],
   "source": [
    "# Problem 1\n",
    "@app.route(\"/users\", methods=[\"GET\"])\n",
    "def get_users():\n",
    "    return jsonify(USERS)\n",
    "\n",
    "# Problem 2\n",
    "@app.route(\"/users/<id>\", methods=[\"GET\"])\n",
    "def get_user(id):\n",
    "    lista = [user for user in USERS if user['id']==int(id)]\n",
    "    \n",
    "    if len(lista) ==0:\n",
    "        raise InvalidUsage(message='Error 404, id Not Found', status_code=404)\n",
    "    \n",
    "    return jsonify(lista[0]), 200\n",
    "  \n",
    "        \n",
    "# Problem 3\n",
    "@app.route(\"/users\", methods=[\"POST\"])\n",
    "def create_user():\n",
    "\n",
    "    if 'first' in request.get_json() and 'last' in request.get_json() and 'email' in request.get_json():\n",
    "        user = {'id': USERS[-1]['id'] + 1,\n",
    "                'first': request.get_json().get('first'),\n",
    "                'last': request.get_json().get('last'),\n",
    "                'email': request.get_json().get('email'),\n",
    "                'role': request.get_json().get('role'),\n",
    "                'active': True}\n",
    "\n",
    "        USERS.append(user)\n",
    "        return jsonify(user), 201\n",
    "    else:\n",
    "        raise  InvalidUsage(message='Missing item', status_code=422)\n",
    "\n",
    "        \n",
    "\n",
    "# Problem 4\n",
    "@app.route(\"/users/<id>\", methods=[\"PATCH\", \"POST\"])\n",
    "def update_user(id):\n",
    "  \n",
    "    lista = [user for user in USERS if user['id']==int(id)]\n",
    "    \n",
    "    if len(lista) == 0:\n",
    "        raise InvalidUsage(message='User not Found', status_code=404)\n",
    "\n",
    "    if len(lista) !=0:\n",
    "        \n",
    "        if 'first' in request.get_json():\n",
    "            lista[0]['first'] = request.get_json().get('first')\n",
    "\n",
    "        if 'last' in request.get_json():\n",
    "            lista[0]['last'] = request.get_json().get('last')\n",
    "\n",
    "        if 'email' in request.get_json():\n",
    "            lista[0]['email'] = request.get_json().get('email')\n",
    "        \n",
    "        return jsonify(lista[0]), 200\n",
    "\n",
    "    else:\n",
    "        raise InvalidUsage(message='Error', status_code=422)\n",
    "\n",
    "\n",
    "# Problem 5\n",
    "@app.route(\"/users/<id>/deactivate\", methods=[\"POST\"])\n",
    "def deactivate_user(id):\n",
    "\n",
    "    lista = [user for user in USERS if user['id']==int(id)]\n",
    "\n",
    "    if len(lista) == 0:\n",
    "        raise InvalidUsage(message='User not Found', status_code=404)\n",
    "    \n",
    "    lista[0]['active']=False\n",
    "\n",
    "    return jsonify(lista[0])"
   ]
  }
 ],
 "metadata": {
  "kernel_info": {
   "name": "python3"
  },
  "kernelspec": {
   "display_name": "Python 3",
   "language": "python",
   "name": "python3"
  },
  "language_info": {
   "codemirror_mode": {
    "name": "ipython",
    "version": 3
   },
   "file_extension": ".py",
   "mimetype": "text/x-python",
   "name": "python",
   "nbconvert_exporter": "python",
   "pygments_lexer": "ipython3",
   "version": "3.7.1"
  },
  "nteract": {
   "version": "0.12.3"
  }
 },
 "nbformat": 4,
 "nbformat_minor": 4
}
